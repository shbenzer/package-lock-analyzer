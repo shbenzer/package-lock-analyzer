{
 "cells": [
  {
   "cell_type": "markdown",
   "id": "54a85f38",
   "metadata": {},
   "source": [
    "# package-lock.json to CSV converter"
   ]
  },
  {
   "cell_type": "code",
   "execution_count": null,
   "id": "f735e3da",
   "metadata": {},
   "outputs": [],
   "source": [
    "#import packages\n",
    "import pandas as pd\n",
    "import requests\n",
    "import warnings #warnings are annoying\n",
    "warnings.filterwarnings('ignore')"
   ]
  },
  {
   "cell_type": "code",
   "execution_count": null,
   "id": "1675edaa",
   "metadata": {},
   "outputs": [],
   "source": [
    "## load file into python\n",
    "with open('./sample_package-lock.json') as package_lock_file:\n",
    "    df = pd.read_json(package_lock_file) ##parse json into dataframe with pandas\n",
    "    \n",
    "df.head"
   ]
  },
  {
   "cell_type": "code",
   "execution_count": null,
   "id": "43df4670",
   "metadata": {},
   "outputs": [],
   "source": [
    "#change column names\n",
    "df = df.rename(columns={'name':'Project','version':'Current Version','dependencies':'dict'})\n",
    "df.index.name = \"Packages\"\n",
    "#add a few empties\n",
    "df['Latest Version'] = None\n",
    "df['Integrity'] = None\n",
    "df['Requires'] = None\n",
    "df['Dependencies'] = None\n",
    "df['hasDependencies'] = False\n",
    "df.head"
   ]
  },
  {
   "cell_type": "code",
   "execution_count": null,
   "id": "2a2a89e8",
   "metadata": {},
   "outputs": [],
   "source": [
    "# make and fill new columns\n",
    "## since the dict column contains type dicts we can use the key/value pairs for easy data manipulation\n",
    "for index,row in df.iterrows():\n",
    "    df['Current Version'][index] = row['dict'].get('version')\n",
    "    if row['dict'].get('integrity'):\n",
    "        df['Integrity'][index] = row['dict'].get('integrity')\n",
    "    if row['dict'].get('requires'):\n",
    "        tempList = [key + ': ' +value for key,value in row['dict'].get('requires').items()].copy() ## turn dict into list\n",
    "        df['Requires'][index] = tempList\n",
    "        df['hasDependencies'][index] = True\n",
    "    if row['dict'].get('dependencies'):\n",
    "        tempList = [key + ': ' +row['dict'].get('dependencies')[key]['version'] for key in row['dict'].get('dependencies').keys()]\n",
    "        df['Dependencies'][index] = tempList\n",
    "        df['hasDependencies'][index] = True\n",
    "\n",
    "df.head"
   ]
  },
  {
   "cell_type": "code",
   "execution_count": null,
   "id": "17b79477",
   "metadata": {},
   "outputs": [],
   "source": [
    "#drop columns\n",
    "df.drop(labels={'dict','lockfileVersion'},axis=1,inplace=True)\n",
    "\n",
    "\n",
    "df.head"
   ]
  },
  {
   "cell_type": "code",
   "execution_count": null,
   "id": "65f35538",
   "metadata": {},
   "outputs": [],
   "source": [
    "# in order to populate the 'Newest Version' column, we'll need to do some querys\n",
    "## https://registry.npmjs.org/:package will suffice\n",
    "### we'll also be making a LOT of requests\n",
    "#### response.json() turns the response into a dict for us to parse\n",
    "\n",
    "header = {'Accept' : 'application/vnd.npm.install-v1+json'} ##gets an abbreviated response\n",
    "\n",
    "for index,rows in df.iterrows():\n",
    "    response = requests.get('https://registry.npmjs.org/'+index,headers=header).json()\n",
    "    df['Latest Version'][index] = response['dist-tags']['latest']"
   ]
  },
  {
   "cell_type": "code",
   "execution_count": null,
   "id": "3d245833",
   "metadata": {},
   "outputs": [],
   "source": [
    "##convert df to csv\n",
    "df.to_csv('package-lock.csv')"
   ]
  }
 ],
 "metadata": {
  "kernelspec": {
   "display_name": "Python 3.7.6 ('base')",
   "language": "python",
   "name": "python3"
  },
  "language_info": {
   "codemirror_mode": {
    "name": "ipython",
    "version": 3
   },
   "file_extension": ".py",
   "mimetype": "text/x-python",
   "name": "python",
   "nbconvert_exporter": "python",
   "pygments_lexer": "ipython3",
   "version": "3.7.6"
  },
  "vscode": {
   "interpreter": {
    "hash": "40d3a090f54c6569ab1632332b64b2c03c39dcf918b08424e98f38b5ae0af88f"
   }
  }
 },
 "nbformat": 4,
 "nbformat_minor": 5
}
